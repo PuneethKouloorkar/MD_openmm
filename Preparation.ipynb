{
 "cells": [
  {
   "cell_type": "markdown",
   "id": "cbef69a3",
   "metadata": {},
   "source": [
    "# PREPARE THE SYSTEM"
   ]
  },
  {
   "cell_type": "code",
   "execution_count": 3,
   "id": "7c82f152",
   "metadata": {},
   "outputs": [],
   "source": [
    "import simtk.openmm as mm       # Main OpenMM functionality\n",
    "import simtk.openmm.app as app  # Application layer (handy interface)\n",
    "import simtk.unit as unit       # Unit/quantity handling\n",
    "import os"
   ]
  },
  {
   "cell_type": "markdown",
   "id": "2a7fcd17",
   "metadata": {},
   "source": [
    "### (a) Saving the first structure to a new .pdb file"
   ]
  },
  {
   "cell_type": "code",
   "execution_count": 4,
   "id": "132bb114",
   "metadata": {},
   "outputs": [],
   "source": [
    "cwd = os.getcwd()                                         # Current working directory path\n",
    "pdb_file = os.path.join(cwd, 'files/6a5j_protein/6a5j.pdb')        # pdb file path\n",
    "new_pdb_file = os.path.join(cwd, 'files/6a5j_protein/conf.pdb')    # new pdb file path\n",
    "\n",
    "with open(pdb_file) as pdbfile:\n",
    "    with open(new_pdb_file, 'w') as newfile:             \n",
    "        model_count = 0\n",
    "        for line in pdbfile:\n",
    "            if line.startswith(\"MODEL\"):\n",
    "                model_count += 1\n",
    "                if model_count > 1:\n",
    "                    break\n",
    "                continue\n",
    "            if not line.startswith(\"ATOM\"):\n",
    "                continue\n",
    "            newfile.write(line)\n",
    "            \n",
    "# This frame will be used as a starting structure to the simulation"
   ]
  },
  {
   "cell_type": "markdown",
   "id": "f722045e",
   "metadata": {},
   "source": [
    "### (b) Topology of the conf.pdb"
   ]
  },
  {
   "cell_type": "code",
   "execution_count": 5,
   "id": "353cca2c",
   "metadata": {},
   "outputs": [
    {
     "name": "stdout",
     "output_type": "stream",
     "text": [
      "<Topology; 1 chains, 13 residues, 260 atoms, 259 bonds>\n"
     ]
    }
   ],
   "source": [
    "molecule = app.PDBFile(new_pdb_file)\n",
    "print(molecule.topology)"
   ]
  },
  {
   "cell_type": "markdown",
   "id": "685ec13f",
   "metadata": {},
   "source": [
    "### (c) Molecule simulation using the AMBER 14SB force field in TIP3P water"
   ]
  },
  {
   "cell_type": "code",
   "execution_count": 6,
   "id": "9971ef58",
   "metadata": {},
   "outputs": [],
   "source": [
    "forcefield = app.ForceField(\n",
    "    \"amber14/protein.ff14SB.xml\",          # Solute\n",
    "    \"amber14/tip3p.xml\"                    # Solvent\n",
    ")"
   ]
  },
  {
   "cell_type": "code",
   "execution_count": 7,
   "id": "1789ff2b",
   "metadata": {},
   "outputs": [],
   "source": [
    "# The molecule is placed in a cubic water box with a minimum distance of 1 nm to the box borders\n",
    "\n",
    "model = app.Modeller(molecule.topology, molecule.positions)\n",
    "model.addSolvent(\n",
    "    forcefield,\n",
    "    padding=1 * unit.nanometer,        \n",
    "    neutralize=True                  # Neutralize the system\n",
    "    )"
   ]
  },
  {
   "cell_type": "code",
   "execution_count": 9,
   "id": "f08d2976",
   "metadata": {},
   "outputs": [],
   "source": [
    "molecule.positions = model.getPositions()     \n",
    "molecule.topology = model.getTopology()\n",
    "\n",
    "solvent_solute_system = os.path.join(cwd, 'files/6a5j_protein/solv.pdb')\n",
    "\n",
    "with open(solvent_solute_system, \"w\") as file_:\n",
    "    molecule.writeFile(\n",
    "        molecule.topology, molecule.positions,\n",
    "        file=file_\n",
    "    )\n",
    "    \n",
    "# One can visulaize this system in VMD"
   ]
  }
 ],
 "metadata": {
  "kernelspec": {
   "display_name": "Python 3",
   "language": "python",
   "name": "python3"
  },
  "language_info": {
   "codemirror_mode": {
    "name": "ipython",
    "version": 3
   },
   "file_extension": ".py",
   "mimetype": "text/x-python",
   "name": "python",
   "nbconvert_exporter": "python",
   "pygments_lexer": "ipython3",
   "version": "3.6.12"
  }
 },
 "nbformat": 4,
 "nbformat_minor": 5
}