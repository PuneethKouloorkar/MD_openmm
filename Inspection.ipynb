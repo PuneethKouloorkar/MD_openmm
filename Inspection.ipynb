{
 "cells": [
  {
   "cell_type": "markdown",
   "id": "380ec72c",
   "metadata": {},
   "source": [
    "# INSPECT THE SYSTEM"
   ]
  },
  {
   "cell_type": "code",
   "execution_count": 22,
   "id": "948b4a41",
   "metadata": {},
   "outputs": [],
   "source": [
    "import simtk.openmm as mm          # Main OpenMM functionality\n",
    "import simtk.openmm.app as app     # Application layer (handy interface)\n",
    "import simtk.unit as unit          # Unit/quantity handling\n",
    "import os"
   ]
  },
  {
   "cell_type": "markdown",
   "id": "4e83a153",
   "metadata": {},
   "source": [
    "### (a) Topology of the protein"
   ]
  },
  {
   "cell_type": "code",
   "execution_count": 23,
   "id": "267e0707",
   "metadata": {},
   "outputs": [
    {
     "data": {
      "text/plain": [
       "<Topology; 1 chains, 13 residues, 260 atoms, 259 bonds>"
      ]
     },
     "execution_count": 23,
     "metadata": {},
     "output_type": "execute_result"
    }
   ],
   "source": [
    "cwd = os.getcwd()                                      # Current working directory path\n",
    "pdb_file = os.path.join(cwd, 'files/6a5j_protein/6a5j.pdb')     # pdb file path\n",
    "\n",
    "molecule = app.PDBFile(pdb_file)                       # To access molecule.topology\n",
    "molecule.topology                                      # One can also visulaize the molecule in VMD"
   ]
  },
  {
   "cell_type": "markdown",
   "id": "4d01ec8d",
   "metadata": {},
   "source": [
    "### (b) Molecular strucutre details"
   ]
  },
  {
   "cell_type": "code",
   "execution_count": 24,
   "id": "b7a5711b",
   "metadata": {},
   "outputs": [
    {
     "name": "stdout",
     "output_type": "stream",
     "text": [
      "The structure contains:\n",
      "    13 residues:\n",
      "        ILE LYS LYS ILE LEU SER LYS ILE LYS LYS LEU LEU LYS\n",
      "\n",
      "    260 atoms\n",
      "\n",
      "    20 frames\n",
      "\n"
     ]
    }
   ],
   "source": [
    "with open(pdb_file) as pdbfile:\n",
    "    print(\"The structure contains:\")\n",
    "    atom_count = 0      # How many atoms?\n",
    "    model_count = 0     # How many frames?\n",
    "    for line in pdbfile:\n",
    "        if line.startswith(\"SEQRES\"):\n",
    "            print(f\"    {line.split()[3]} residues:\")     # residues = amino acids\n",
    "            print(f\"        {' '.join(line.split()[4:])}\\n\")\n",
    "            continue\n",
    "        if line.startswith(\"MODEL\"):\n",
    "            model_count += 1\n",
    "            atom_count = 0\n",
    "            continue\n",
    "        if line.startswith(\"ATOM\"):\n",
    "            atom_count += 1\n",
    "            continue\n",
    "    print(f\"    {atom_count} atoms\\n\")\n",
    "    print(f\"    {model_count} frames\\n\")     # frames = structures"
   ]
  },
  {
   "cell_type": "markdown",
   "id": "bb20314a",
   "metadata": {},
   "source": [
    "### (c) Charge of the molecule"
   ]
  },
  {
   "cell_type": "code",
   "execution_count": null,
   "id": "3a80eaa5",
   "metadata": {},
   "outputs": [],
   "source": [
    "# (i) Rational approach: The peptide has 6 lysine residues in its sequence. \n",
    "#                        All lysine side chains are protonated and the total \n",
    "#                        charge of the molecule is +6."
   ]
  },
  {
   "cell_type": "code",
   "execution_count": 25,
   "id": "f2308b2a",
   "metadata": {},
   "outputs": [],
   "source": [
    "# (ii) Forcefield approach:\n",
    "\n",
    "forcefield = app.ForceField(\"amber14/protein.ff14SB.xml\")\n",
    "system = forcefield.createSystem(molecule.topology)"
   ]
  },
  {
   "cell_type": "code",
   "execution_count": 26,
   "id": "28ad4997",
   "metadata": {},
   "outputs": [
    {
     "name": "stdout",
     "output_type": "stream",
     "text": [
      "<class 'simtk.openmm.openmm.HarmonicBondForce'>\n",
      "<class 'simtk.openmm.openmm.HarmonicAngleForce'>\n",
      "<class 'simtk.openmm.openmm.PeriodicTorsionForce'>\n",
      "<class 'simtk.openmm.openmm.NonbondedForce'>\n",
      "<class 'simtk.openmm.openmm.CMMotionRemover'>\n"
     ]
    }
   ],
   "source": [
    "for force in system.getForces():\n",
    "    print(type(force))\n",
    "    if isinstance(force, mm.openmm.NonbondedForce):\n",
    "        # For charges, we are only interested in the non-bonded forces\n",
    "        nonbonded = force"
   ]
  },
  {
   "cell_type": "code",
   "execution_count": 27,
   "id": "82654fb4",
   "metadata": {},
   "outputs": [
    {
     "data": {
      "text/plain": [
       "[Quantity(value=0.0311, unit=elementary charge),\n",
       " Quantity(value=0.3249998523775958, unit=nanometer),\n",
       " Quantity(value=0.7112800000000001, unit=kilojoule/mole)]"
      ]
     },
     "execution_count": 27,
     "metadata": {},
     "output_type": "execute_result"
    }
   ],
   "source": [
    "nonbonded.getParticleParameters(0)     # Non-bonded force entry of an atom"
   ]
  },
  {
   "cell_type": "code",
   "execution_count": 28,
   "id": "6c65c0a6",
   "metadata": {},
   "outputs": [
    {
     "name": "stdout",
     "output_type": "stream",
     "text": [
      "Partial charge             0.0311 e\n",
      "Minimum energy distance    0.3249998523775958 nm\n",
      "Minimum energy             0.7112800000000001 kJ/mol\n"
     ]
    }
   ],
   "source": [
    "force_description = zip(\n",
    "    [\"Partial charge\", \"Minimum energy distance\", \"Minimum energy\"],\n",
    "    nonbonded.getParticleParameters(0)\n",
    ")\n",
    "\n",
    "for desc, comp in force_description:\n",
    "    print(f\"{desc:<26} {comp}\")"
   ]
  },
  {
   "cell_type": "code",
   "execution_count": 32,
   "id": "e397bc2a",
   "metadata": {},
   "outputs": [
    {
     "data": {
      "text/plain": [
       "5.999999999999995"
      ]
     },
     "execution_count": 32,
     "metadata": {},
     "output_type": "execute_result"
    }
   ],
   "source": [
    "total_charge = 0.\n",
    "for i in range(nonbonded.getNumParticles()):\n",
    "    nb_i = nonbonded.getParticleParameters(i)      \n",
    "    total_charge += nb_i[0].value_in_unit(unit.elementary_charge)\n",
    "\n",
    "total_charge"
   ]
  },
  {
   "cell_type": "code",
   "execution_count": 33,
   "id": "091b27dc",
   "metadata": {},
   "outputs": [
    {
     "data": {
      "text/plain": [
       "6"
      ]
     },
     "execution_count": 33,
     "metadata": {},
     "output_type": "execute_result"
    }
   ],
   "source": [
    "round(total_charge)"
   ]
  }
 ],
 "metadata": {
  "kernelspec": {
   "display_name": "Python 3",
   "language": "python",
   "name": "python3"
  },
  "language_info": {
   "codemirror_mode": {
    "name": "ipython",
    "version": 3
   },
   "file_extension": ".py",
   "mimetype": "text/x-python",
   "name": "python",
   "nbconvert_exporter": "python",
   "pygments_lexer": "ipython3",
   "version": "3.6.12"
  }
 },
 "nbformat": 4,
 "nbformat_minor": 5
}