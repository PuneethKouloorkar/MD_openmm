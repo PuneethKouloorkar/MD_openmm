{
 "cells": [
  {
   "cell_type": "markdown",
   "id": "c2327fac",
   "metadata": {},
   "source": [
    "# SIMULATE THE SYSTEM"
   ]
  },
  {
   "cell_type": "code",
   "execution_count": 43,
   "id": "5f3832d2",
   "metadata": {},
   "outputs": [],
   "source": [
    "import simtk.openmm as mm       # Main OpenMM functionality\n",
    "import simtk.openmm.app as app  # Application layer (handy interface)\n",
    "import simtk.unit as unit       # Unit/quantity handling\n",
    "import mdtraj\n",
    "import matplotlib as mpl\n",
    "import matplotlib.pyplot as plt\n",
    "import os"
   ]
  },
  {
   "cell_type": "code",
   "execution_count": 29,
   "id": "513c3ceb",
   "metadata": {},
   "outputs": [],
   "source": [
    "cwd = cwd = os.getcwd() \n",
    "solvent_solute_system = os.path.join(cwd, 'files/6a5j_protein/solv.pdb') \n",
    "\n",
    "molecule = app.PDBFile(solvent_solute_system)     # Load the solvated peptide"
   ]
  },
  {
   "cell_type": "markdown",
   "id": "4fb4ce55",
   "metadata": {},
   "source": [
    "### (a) System object from topology of solvated peptide"
   ]
  },
  {
   "cell_type": "code",
   "execution_count": 30,
   "id": "94348b1e",
   "metadata": {},
   "outputs": [],
   "source": [
    "forcefield = app.ForceField(\"amber14/protein.ff14SB.xml\", \"amber14/tip3p.xml\")\n",
    "\n",
    "system = forcefield.createSystem(\n",
    "    molecule.topology,\n",
    "    nonbondedMethod=app.PME,                 # Non-bonded interactions\n",
    "    nonbondedCutoff=1 * unit.nanometer,      # Cut-off of non-bonded interactions \n",
    "    constraints=app.HBonds\n",
    "    )"
   ]
  },
  {
   "cell_type": "markdown",
   "id": "cdddda97",
   "metadata": {},
   "source": [
    "### (b) Simulation using Langevin integrator in timesteps of 2 fs at 300k"
   ]
  },
  {
   "cell_type": "code",
   "execution_count": 31,
   "id": "c7001f22",
   "metadata": {},
   "outputs": [],
   "source": [
    "integrator = mm.LangevinIntegrator(300.*unit.kelvin, 1./unit.picosecond, 2.*unit.femtoseconds)\n",
    "\n",
    "simulation = app.Simulation(\n",
    "    molecule.topology,                      # Topology\n",
    "    system,                                 # System\n",
    "    integrator,                             # Integrator\n",
    "    mm.Platform.getPlatformByName('CPU')    # Platform = 'CPU' or 'CUDA'\n",
    ")"
   ]
  },
  {
   "cell_type": "code",
   "execution_count": 32,
   "id": "6f93324b",
   "metadata": {},
   "outputs": [],
   "source": [
    "simulation.context.setPositions(molecule.positions)   # Add the current atomic positions of the solvated peptide \n",
    "                                                      # to the context of the simulation."
   ]
  },
  {
   "cell_type": "markdown",
   "id": "d49b611a",
   "metadata": {},
   "source": [
    "### (c) Energy minimization of the system"
   ]
  },
  {
   "cell_type": "code",
   "execution_count": 33,
   "id": "fe34c077",
   "metadata": {},
   "outputs": [],
   "source": [
    "simulation.minimizeEnergy()"
   ]
  },
  {
   "cell_type": "code",
   "execution_count": 34,
   "id": "8fae26bc",
   "metadata": {},
   "outputs": [],
   "source": [
    "state = simulation.context.getState(getPositions=True)     # New co-ordinates\n",
    "molecule.positions = state.getPositions()                 "
   ]
  },
  {
   "cell_type": "code",
   "execution_count": 35,
   "id": "c7b901bf",
   "metadata": {},
   "outputs": [],
   "source": [
    "minimized_system = os.path.join(cwd, 'files/6a5j_protein/min.pdb')\n",
    "\n",
    "with open(minimized_system, \"w\") as file_:\n",
    "    molecule.writeFile(\n",
    "        molecule.topology, molecule.positions,\n",
    "        file=file_\n",
    "    )\n",
    "    \n",
    "# One can visualize this in VMD and see the difference between original and the minimised atoms"
   ]
  },
  {
   "cell_type": "markdown",
   "id": "2008cff5",
   "metadata": {},
   "source": [
    "### (c) Equilibration of system in the NVT ensemble for 100 ps"
   ]
  },
  {
   "cell_type": "code",
   "execution_count": 36,
   "id": "d580ea10",
   "metadata": {},
   "outputs": [],
   "source": [
    "molecule = app.PDBFile(minimized_system)\n",
    "simulation.context.setPositions(molecule.positions)"
   ]
  },
  {
   "cell_type": "code",
   "execution_count": 37,
   "id": "40533abc",
   "metadata": {},
   "outputs": [],
   "source": [
    "run_length = 50000     # 50000 * 2 fs = 100 ps\n",
    "\n",
    "equilibration_log = os.path.join(cwd, 'files/6a5j_protein/equilibration.log')\n",
    "\n",
    "simulation.reporters.append(\n",
    "    app.StateDataReporter(\n",
    "        equilibration_log, 500, step=True,          # 500 = Write every 500th step\n",
    "        potentialEnergy=True, totalEnergy=True,\n",
    "        temperature=True, progress=True,\n",
    "        remainingTime=True, speed=True,\n",
    "        totalSteps=run_length,\n",
    "        separator='\\t')\n",
    "    )"
   ]
  },
  {
   "cell_type": "code",
   "execution_count": 38,
   "id": "9afcdda2",
   "metadata": {},
   "outputs": [],
   "source": [
    "simulation.step(run_length)     # Run the simulation"
   ]
  },
  {
   "cell_type": "code",
   "execution_count": 39,
   "id": "441431c1",
   "metadata": {},
   "outputs": [],
   "source": [
    "save_state = os.path.join(cwd, 'files/6a5j_protein/eq.xml')\n",
    "simulation.saveState(save_state)"
   ]
  },
  {
   "cell_type": "code",
   "execution_count": 40,
   "id": "ef182daa",
   "metadata": {},
   "outputs": [],
   "source": [
    "pot_e = []\n",
    "tot_e = []\n",
    "temperature = []\n",
    "\n",
    "with open(equilibration_log) as file_:\n",
    "    for line in file_:\n",
    "        if line.startswith(\"#\"):\n",
    "            continue\n",
    "        pot_e_, tot_e_, temperature_ = line.split()[2:5]\n",
    "        pot_e.append(float(pot_e_))\n",
    "        tot_e.append(float(tot_e_))\n",
    "        temperature.append(float(temperature_))"
   ]
  },
  {
   "cell_type": "code",
   "execution_count": 47,
   "id": "b96844b2",
   "metadata": {},
   "outputs": [
    {
     "data": {
      "text/plain": [
       "<matplotlib.legend.Legend at 0x7fa5f04e4b38>"
      ]
     },
     "execution_count": 47,
     "metadata": {},
     "output_type": "execute_result"
    },
    {
     "data": {
      "image/png": "[encoded data removed]",
      "text/plain": [
       "<Figure size 720x504 with 1 Axes>"
      ]
     },
     "metadata": {
      "needs_background": "light"
     },
     "output_type": "display_data"
    }
   ],
   "source": [
    "plt.rcParams[\"figure.figsize\"] = (10,7)\n",
    "t = range(1, 101)\n",
    "\n",
    "fig, ax = plt.subplots()\n",
    "ax.plot(t, [x / 1000 for x in pot_e], label=\"potential\")\n",
    "ax.plot(t, [x / 1000 for x in tot_e], label=\"total\")\n",
    "\n",
    "ax.set(**{\n",
    "    \"xlabel\": \"time / ps\",\n",
    "    \"xlim\": (0, 100),\n",
    "    \"ylabel\": \"energy / 10$^{3}$ kJ mol$^{-1}$\"\n",
    "    })\n",
    "\n",
    "ax.legend(\n",
    "    framealpha=1,\n",
    "    edgecolor=\"k\",\n",
    "    fancybox=False\n",
    ")"
   ]
  },
  {
   "cell_type": "code",
   "execution_count": 48,
   "id": "43acf81f",
   "metadata": {},
   "outputs": [
    {
     "data": {
      "text/plain": [
       "[Text(0, 0.5, 'temperature / K'), (0.0, 100.0), Text(0.5, 0, 'time / ps')]"
      ]
     },
     "execution_count": 48,
     "metadata": {},
     "output_type": "execute_result"
    },
    {
     "data": {
      "image/png": "[encoded data removed]",
      "text/plain": [
       "<Figure size 720x504 with 1 Axes>"
      ]
     },
     "metadata": {
      "needs_background": "light"
     },
     "output_type": "display_data"
    }
   ],
   "source": [
    "fig, ax = plt.subplots()\n",
    "ax.plot(t, temperature)\n",
    "\n",
    "ax.set(**{\n",
    "    \"xlabel\": \"time / ps\",\n",
    "    \"xlim\": (0, 100),\n",
    "    \"ylabel\": \"temperature / K\"\n",
    "    })"
   ]
  },
  {
   "cell_type": "markdown",
   "id": "a384aaf4",
   "metadata": {},
   "source": [
    "### (d) Production run (in CUDA)"
   ]
  },
  {
   "cell_type": "code",
   "execution_count": null,
   "id": "86984f0f",
   "metadata": {},
   "outputs": [],
   "source": [
    "simulation.loadState(save_state)\n",
    "\n",
    "simulation = os.path.join(cwd, 'files/6a5j_protein/simulation.log')\n",
    "\n",
    "simulation.reporters = []          # Reset the simulation reporters\n",
    "\n",
    "run_length = 375000000             # 375000000 * 2 fs = 750 ns\n",
    "simulation.reporters.append(       \n",
    "    app.StateDataReporter(         # State reporter that appends potential energy\n",
    "        simulation, 5000, step=True,\n",
    "        potentialEnergy=True,\n",
    "        temperature=True, progress=True,\n",
    "        remainingTime=True, speed=True,\n",
    "        totalSteps=run_length,\n",
    "        separator='\\t')\n",
    "    )\n",
    "\n",
    "production_dcd = os.path.join(cwd, 'files/6a5j_protein/prod_run.dcd')\n",
    "\n",
    "simulation.reporters.append(mdtraj.reporters.DCDReporter(\n",
    "                    production_dcd, 5000,        # Structure reporter that appends positions\n",
    "                    atomSubset=range(260))       # atomSubset = Save just the peptide atoms\n",
    "                           )                     "
   ]
  },
  {
   "cell_type": "code",
   "execution_count": null,
   "id": "940cccde",
   "metadata": {},
   "outputs": [],
   "source": [
    "simulation.step(run_length)\n",
    "# One can visualize the saved .dcd file in VMD and compare with th original"
   ]
  }
 ],
 "metadata": {
  "kernelspec": {
   "display_name": "Python 3",
   "language": "python",
   "name": "python3"
  },
  "language_info": {
   "codemirror_mode": {
    "name": "ipython",
    "version": 3
   },
   "file_extension": ".py",
   "mimetype": "text/x-python",
   "name": "python",
   "nbconvert_exporter": "python",
   "pygments_lexer": "ipython3",
   "version": "3.6.12"
  }
 },
 "nbformat": 4,
 "nbformat_minor": 5
}